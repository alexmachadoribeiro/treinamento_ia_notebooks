{
 "cells": [
  {
   "cell_type": "markdown",
   "id": "735f7dea",
   "metadata": {},
   "source": [
    "## Redes neurais\n",
    "Na aula de hoje, veremos como implementar redes neurais utilizando o _pytorch_. Utilizaremos também o dataset _Diabetes_, da aula 07, onde tentaremos prever a presença da doença com um modelo de classificação."
   ]
  },
  {
   "cell_type": "markdown",
   "id": "9e8ea2a1",
   "metadata": {},
   "source": [
    "##### Carregando o dataset"
   ]
  },
  {
   "cell_type": "code",
   "execution_count": 1,
   "id": "ff58aab1",
   "metadata": {},
   "outputs": [],
   "source": [
    "import pandas as pd\n",
    "from ucimlrepo import fetch_ucirepo\n",
    "import numpy as np\n",
    "import time\n",
    "pd.set_option('display.max_columns', None)\n",
    "cdc_diabetes_health_indicators = fetch_ucirepo(id=891)"
   ]
  },
  {
   "cell_type": "code",
   "execution_count": 2,
   "id": "ca2f66de",
   "metadata": {},
   "outputs": [],
   "source": [
    "df = pd.concat([cdc_diabetes_health_indicators.data.features, cdc_diabetes_health_indicators.data.targets], axis=1)"
   ]
  },
  {
   "cell_type": "code",
   "execution_count": 3,
   "id": "254155d3",
   "metadata": {},
   "outputs": [
    {
     "data": {
      "text/plain": [
       "0"
      ]
     },
     "execution_count": 3,
     "metadata": {},
     "output_type": "execute_result"
    }
   ],
   "source": [
    "df.drop_duplicates(inplace=True)\n",
    "df.duplicated().sum()"
   ]
  },
  {
   "cell_type": "code",
   "execution_count": 4,
   "id": "9a4377c3",
   "metadata": {},
   "outputs": [],
   "source": [
    "from sklearn.metrics import roc_auc_score\n",
    "from sklearn.model_selection import train_test_split\n",
    "model_cols = [c for c in df.columns if c!='Diabetes_binary']"
   ]
  },
  {
   "cell_type": "code",
   "execution_count": 5,
   "id": "e23b45f7",
   "metadata": {},
   "outputs": [
    {
     "data": {
      "text/plain": [
       "['HighBP',\n",
       " 'HighChol',\n",
       " 'CholCheck',\n",
       " 'BMI',\n",
       " 'Smoker',\n",
       " 'Stroke',\n",
       " 'HeartDiseaseorAttack',\n",
       " 'PhysActivity',\n",
       " 'Fruits',\n",
       " 'Veggies',\n",
       " 'HvyAlcoholConsump',\n",
       " 'AnyHealthcare',\n",
       " 'NoDocbcCost',\n",
       " 'GenHlth',\n",
       " 'MentHlth',\n",
       " 'PhysHlth',\n",
       " 'DiffWalk',\n",
       " 'Sex',\n",
       " 'Age',\n",
       " 'Education',\n",
       " 'Income']"
      ]
     },
     "execution_count": 5,
     "metadata": {},
     "output_type": "execute_result"
    }
   ],
   "source": [
    "model_cols_raw = [c for c in df.columns if c!='Diabetes_binary']\n",
    "model_cols_raw"
   ]
  },
  {
   "cell_type": "markdown",
   "id": "b53ea2e7",
   "metadata": {},
   "source": [
    "Vamos ajustar um StandardScaler() sobre os dados. Faremos esse ajuste sobre o conjunto completo para facilitar a comparação, mas na prática é importante ajustar os scalers para o modelo final escolhido somente sobre o conjunto de treino.\n",
    "\n",
    "Note que esta etapa não é necessária para o baseline que vamos ajustar, mas é necessária para as redes neurais."
   ]
  },
  {
   "cell_type": "code",
   "execution_count": 6,
   "id": "b9d1634f",
   "metadata": {},
   "outputs": [],
   "source": [
    "from sklearn.preprocessing import StandardScaler\n",
    "model_cols = [c+'_norm' for c in model_cols_raw]\n",
    "\n",
    "scaler = StandardScaler()\n",
    "df[model_cols] = scaler.fit_transform(df[model_cols_raw])"
   ]
  },
  {
   "cell_type": "markdown",
   "id": "aa3e31f6",
   "metadata": {},
   "source": [
    "Vamos ajustar então uma Random Forest sobre os dados e calcular a ROC-AUC com validação cruzada:"
   ]
  },
  {
   "cell_type": "code",
   "execution_count": 7,
   "id": "e8fecd77",
   "metadata": {},
   "outputs": [
    {
     "name": "stdout",
     "output_type": "stream",
     "text": [
      "ROC-AUC média cross-val: 0.7783933818776347\n"
     ]
    }
   ],
   "source": [
    "from sklearn.ensemble import RandomForestClassifier\n",
    "from sklearn.model_selection import cross_val_score\n",
    "\n",
    "params = {'n_estimators':200,\n",
    "          'n_jobs':-1,\n",
    "          'criterion':'gini',\n",
    "          'max_depth':None}\n",
    "\n",
    "print('ROC-AUC média cross-val:', np.mean(cross_val_score(estimator=RandomForestClassifier(**params),\n",
    "                                    X=df[model_cols], y=df['Diabetes_binary'], cv=5, scoring='roc_auc', n_jobs=-1)))"
   ]
  },
  {
   "cell_type": "code",
   "execution_count": 8,
   "id": "c55d67f9",
   "metadata": {},
   "outputs": [],
   "source": [
    "# Separação treino-teste-validação\n",
    "from sklearn.model_selection import train_test_split\n",
    "\n",
    "df_train, df_test = train_test_split(df, test_size=0.3, random_state=42)"
   ]
  },
  {
   "cell_type": "markdown",
   "id": "d1edccc3",
   "metadata": {},
   "source": [
    "##### Configurando pytorch\n",
    "Vamos configurar a biblioteca para executar na GPU ou CPU. A função `torch.cuda.is_available()` retorna se há implementação CUDA (NVidia) instalada disponível para ser utilizada."
   ]
  },
  {
   "cell_type": "code",
   "execution_count": 11,
   "id": "18fe0037",
   "metadata": {},
   "outputs": [
    {
     "name": "stdout",
     "output_type": "stream",
     "text": [
      "Cuda disponível: False\n",
      "cpu\n"
     ]
    }
   ],
   "source": [
    "import torch\n",
    "print('Cuda disponível:', torch.cuda.is_available())\n",
    "# Escolhendo entre CPU ou GPU\n",
    "# CPU\n",
    "device = torch.device('cpu')\n",
    "# GPU\n",
    "# device = torch.device('cuda:0')\n",
    "print(device)"
   ]
  },
  {
   "cell_type": "markdown",
   "id": "0de3ebcc",
   "metadata": {},
   "source": [
    "##### Configurando dataset de treino\n",
    "\n",
    "Para a implementação de redes neurais no pytorch, precisaremos transformar os dados em _tensores_. Essas estruturas são uma generalização de vetores e matrizes para espaços mais complexos: uma imagem pode ser vista como um cubo parecido com uma \"matriz 3D\", onde cada índice e coluna representam as coordenadas dos pixels, e cada \"camada\" na terceira dimensão representa um canal de cor (R, G, B).\n",
    "\n",
    "A variável resposta não está no formato tensorial adequado após a conversão utilizando o `torch.tensor()`, e é necessário \"adicionar\" uma \"dimensão\" no tensor com o unsqueeze"
   ]
  },
  {
   "cell_type": "code",
   "execution_count": 12,
   "id": "440a0eba",
   "metadata": {},
   "outputs": [
    {
     "name": "stdout",
     "output_type": "stream",
     "text": [
      "Features:\n",
      "tensor([[-0.9125, -0.8894,  0.2055,  ..., -1.3201,  0.0204,  0.5310],\n",
      "        [-0.9125,  1.1244,  0.2055,  ...,  0.9420, -0.9867, -0.9024],\n",
      "        [ 1.0959, -0.8894,  0.2055,  ...,  1.2651,  1.0275,  1.0088],\n",
      "        ...,\n",
      "        [-0.9125,  1.1244,  0.2055,  ...,  0.6188,  0.0204,  1.0088],\n",
      "        [ 1.0959,  1.1244,  0.2055,  ...,  0.6188,  1.0275,  1.0088],\n",
      "        [-0.9125, -0.8894,  0.2055,  ...,  1.2651, -1.9937, -1.3802]])\n",
      "\n",
      "Targets:\n",
      "tensor([[0.],\n",
      "        [0.],\n",
      "        [0.],\n",
      "        ...,\n",
      "        [0.],\n",
      "        [1.],\n",
      "        [0.]])\n"
     ]
    }
   ],
   "source": [
    "import torch\n",
    "\n",
    "# Colocando em tensores do pytorch\n",
    "train_features = torch.tensor(df_train[model_cols].values.astype(np.float32)).to(device)\n",
    "train_target = torch.tensor(df_train['Diabetes_binary'].values.astype(np.float32)).to(device).unsqueeze(1)\n",
    "print(f'Features:\\n{train_features}\\n')\n",
    "print(f'Targets:\\n{train_target}')"
   ]
  },
  {
   "cell_type": "markdown",
   "id": "4bbe1032",
   "metadata": {},
   "source": [
    "Vamos precisar configurar também _dataloaders_, que \"embrulham\" os dados em pacotes iteráveis no formato necessário. Para isso, precisaremos definir um hiperparâmetro muito importante: o `batch_size`. Esse hiperparâmetro define o tamanho dos \"pacotes\" de amostras que são processados na rede neural por vez. Caso tenhamos 100 amostras totais e batch_size=20, uma \"passada completa\" dos dados na rede (_epoch_) leva 5 iterações, onde o gradiente é calculado e retropropagado a cada iteração.\n",
    "\n",
    "Valores muito pequenos para este hiperparâmetro podem prejudicar bastante o treinamento (e induzir overfitting) devido à alta variância resultante dos \"pacotes\" - será comum, por exemplo, _batches_ com somente uma classe. Por outro lado, batches muito grandes podem ser generalistas demais.\n",
    "\n",
    "Controlar o `batch_size` é principalmente um jeito de controlar os requisitos de memória para treinar uma rede neural: quanto maior forem os batches, mais memória (da GPU) será necessária - em contrapartida, mais rápido será o treinamento."
   ]
  },
  {
   "cell_type": "code",
   "execution_count": 13,
   "id": "585f7d99",
   "metadata": {},
   "outputs": [],
   "source": [
    "# Definindo 256 amostras por batch\n",
    "batch_size = 256"
   ]
  },
  {
   "cell_type": "code",
   "execution_count": 14,
   "id": "84496573",
   "metadata": {},
   "outputs": [],
   "source": [
    "# Configurando dataloader\n",
    "from torch.utils.data import TensorDataset, DataLoader\n",
    "train_tensor = TensorDataset(train_features, train_target)\n",
    "train_dl = DataLoader(dataset=train_tensor, batch_size=batch_size, shuffle=True)"
   ]
  },
  {
   "cell_type": "code",
   "execution_count": 15,
   "id": "9c00134b",
   "metadata": {},
   "outputs": [
    {
     "data": {
      "text/plain": [
       "<torch.utils.data.dataset.TensorDataset at 0x1e1ba357cb0>"
      ]
     },
     "execution_count": 15,
     "metadata": {},
     "output_type": "execute_result"
    }
   ],
   "source": [
    "train_tensor"
   ]
  },
  {
   "cell_type": "markdown",
   "id": "0d1130f5",
   "metadata": {},
   "source": [
    "##### Configurando dataset de teste"
   ]
  },
  {
   "cell_type": "code",
   "execution_count": 16,
   "id": "62be8d61",
   "metadata": {},
   "outputs": [],
   "source": [
    "test_features = torch.tensor(df_test[model_cols].values.astype(np.float32))\n",
    "test_target = torch.tensor(df_test['Diabetes_binary'].values.astype(np.float32)).unsqueeze(1)\n",
    "test_tensor = TensorDataset(test_features, test_target)\n",
    "test_dl = DataLoader(dataset=test_tensor, batch_size=batch_size, shuffle=True)"
   ]
  },
  {
   "cell_type": "code",
   "execution_count": 17,
   "id": "40c94a83",
   "metadata": {},
   "outputs": [
    {
     "name": "stdout",
     "output_type": "stream",
     "text": [
      "X: torch.Size([256, 21])\n",
      "y: torch.Size([256, 1]) torch.FloatTensor\n"
     ]
    }
   ],
   "source": [
    "for X,y in train_dl:\n",
    "    train_features, train_labels = next(iter(train_dl))\n",
    "    print(f'X: {X.shape}')\n",
    "    print(f'y: {y.shape} {y.type()}')\n",
    "    break"
   ]
  },
  {
   "cell_type": "markdown",
   "id": "1a86affe",
   "metadata": {},
   "source": [
    "##### Construindo a rede neural\n",
    "\n",
    "Chegou a hora de construirmos a rede de fato! Para isso, vamos utilizar um pouco de orientação a objetos e definir o atributo um atributo _feedforward_ da rede que representa uma sequência de passos (camadas), capturados pelo módulo `nn.Sequential()` do pytorch. Também poderíamos definir cada camada em um atributo, o que é importante para redes mais complexas.\n",
    "\n",
    "Documentação relevante: https://pytorch.org/docs/stable/nn.html"
   ]
  },
  {
   "cell_type": "code",
   "execution_count": 20,
   "id": "bd5a9dbf",
   "metadata": {
    "scrolled": true
   },
   "outputs": [
    {
     "name": "stdout",
     "output_type": "stream",
     "text": [
      "[Parameter containing:\n",
      "tensor([[ 0.1858,  0.0875, -0.1436,  ..., -0.0704,  0.1242,  0.0660],\n",
      "        [-0.1864,  0.0326, -0.1515,  ..., -0.1166,  0.1462, -0.1859],\n",
      "        [-0.1423,  0.0058, -0.2103,  ...,  0.2028, -0.0615,  0.2032],\n",
      "        ...,\n",
      "        [ 0.1551, -0.1869, -0.1535,  ..., -0.1158, -0.1137,  0.2174],\n",
      "        [ 0.1283, -0.1754,  0.0672,  ...,  0.0737, -0.1517,  0.1268],\n",
      "        [ 0.1147,  0.2048,  0.0646,  ...,  0.1334,  0.0478,  0.0631]],\n",
      "       requires_grad=True), Parameter containing:\n",
      "tensor([-9.4581e-02, -1.2169e-01,  8.4738e-02, -1.8819e-01,  1.2866e-01,\n",
      "        -1.3376e-01, -1.2368e-02,  9.9369e-02,  1.9179e-01,  1.1712e-05,\n",
      "        -1.7567e-01, -1.7927e-01, -1.3028e-01,  6.0378e-02, -1.4390e-01,\n",
      "         2.7736e-02,  9.5412e-02,  1.4601e-01, -1.5207e-01, -1.2666e-02,\n",
      "         1.8363e-01, -6.9163e-02,  8.5760e-02,  1.6696e-01, -8.1215e-02,\n",
      "        -1.5521e-01,  1.5486e-01,  1.9173e-01, -5.9557e-02,  1.8359e-01,\n",
      "        -9.3741e-02,  5.8656e-02,  1.7543e-02,  7.6585e-02,  5.3124e-02,\n",
      "         8.9898e-03, -5.2335e-02,  1.3168e-01,  1.1600e-01, -8.7229e-02,\n",
      "         1.8173e-02, -6.7691e-03,  1.4722e-01, -1.2160e-02,  1.5618e-01,\n",
      "        -4.0210e-02, -1.4537e-01, -1.3794e-01,  1.4389e-02,  1.7239e-01,\n",
      "         7.4540e-02, -1.0050e-01, -8.0248e-02, -1.2157e-01,  1.1611e-01,\n",
      "        -1.5696e-01, -1.9819e-01,  2.1748e-01,  1.8590e-01, -6.9170e-02,\n",
      "        -1.4548e-01, -1.6085e-01,  1.6930e-01,  2.1369e-01],\n",
      "       requires_grad=True), Parameter containing:\n",
      "tensor([[-0.0399,  0.0981, -0.0912,  ...,  0.1078,  0.1239, -0.1054],\n",
      "        [ 0.1187,  0.1190, -0.0836,  ..., -0.0554,  0.0680,  0.0918],\n",
      "        [-0.0046,  0.0361,  0.0241,  ..., -0.0885, -0.0116,  0.0041],\n",
      "        ...,\n",
      "        [-0.0384, -0.0597,  0.1202,  ...,  0.0630,  0.1196, -0.0800],\n",
      "        [ 0.0299, -0.0372,  0.0991,  ..., -0.0070, -0.0473,  0.0369],\n",
      "        [ 0.0638, -0.0692,  0.0044,  ..., -0.0887, -0.0324, -0.0192]],\n",
      "       requires_grad=True), Parameter containing:\n",
      "tensor([-0.0521,  0.0646,  0.1181,  0.1147,  0.0685,  0.0251,  0.1016,  0.1022,\n",
      "         0.0202,  0.0859,  0.1043, -0.0641, -0.0117, -0.0351,  0.0826,  0.0618,\n",
      "        -0.0788,  0.0518,  0.0380,  0.0696,  0.0233, -0.0500, -0.0237, -0.0335,\n",
      "         0.0851,  0.1104, -0.0758, -0.0818,  0.0280,  0.0250,  0.0798, -0.0206],\n",
      "       requires_grad=True), Parameter containing:\n",
      "tensor([[-0.0676,  0.0733,  0.0877, -0.1729, -0.0397,  0.1733,  0.1663, -0.1676,\n",
      "          0.1085, -0.0683,  0.1027,  0.1468,  0.0405, -0.0169,  0.0866,  0.0375,\n",
      "          0.0762, -0.0742,  0.0965,  0.1476, -0.0367, -0.1200, -0.1250,  0.0830,\n",
      "         -0.1691,  0.0038, -0.1169,  0.1286, -0.1275, -0.1705, -0.1516, -0.1052],\n",
      "        [-0.1295,  0.0130, -0.1336, -0.0779,  0.0849, -0.1490, -0.0946,  0.0436,\n",
      "         -0.0694, -0.1205, -0.0854,  0.0775,  0.0462,  0.1170,  0.0018,  0.0670,\n",
      "          0.1703,  0.0613,  0.0029,  0.0460,  0.1241, -0.0964,  0.1740, -0.1075,\n",
      "          0.0625, -0.0576,  0.0199, -0.1320,  0.0338, -0.1722, -0.1441, -0.1289],\n",
      "        [ 0.0563,  0.0803, -0.0669,  0.1484,  0.0911, -0.1028,  0.1031, -0.0478,\n",
      "         -0.0822,  0.1377, -0.0826,  0.1171,  0.0600,  0.0107,  0.0281, -0.0304,\n",
      "          0.0060,  0.0752,  0.0862, -0.0300, -0.1509,  0.1303, -0.1528,  0.0811,\n",
      "          0.0199,  0.1731, -0.1607,  0.1154, -0.1622, -0.1246,  0.0373, -0.0983],\n",
      "        [ 0.0609, -0.1647, -0.1120,  0.1089,  0.1610,  0.0658,  0.0738, -0.1058,\n",
      "          0.0546, -0.0990,  0.1387, -0.1068,  0.0443, -0.1120, -0.0468,  0.1040,\n",
      "         -0.1515,  0.1302,  0.1285,  0.0171, -0.0023,  0.0520,  0.1294, -0.0841,\n",
      "          0.1458,  0.0395, -0.0203,  0.0949, -0.1224, -0.0248,  0.0369, -0.0587],\n",
      "        [ 0.0945, -0.1382,  0.1747,  0.0356, -0.0602, -0.1021,  0.1063, -0.0627,\n",
      "         -0.0127,  0.1215, -0.0745, -0.0458,  0.0434,  0.1642, -0.0372,  0.0401,\n",
      "          0.0615,  0.1227, -0.1061, -0.1540,  0.0701,  0.0710,  0.0590,  0.0679,\n",
      "          0.0845,  0.0229, -0.0958,  0.1555, -0.0902,  0.0920,  0.0747,  0.1505],\n",
      "        [ 0.0832, -0.1494, -0.0264, -0.1035, -0.1451,  0.1049,  0.1649,  0.0324,\n",
      "          0.1694,  0.0817, -0.0377,  0.1192,  0.0207, -0.1023,  0.1477,  0.1227,\n",
      "         -0.0446,  0.0493,  0.1210, -0.1301,  0.0114,  0.0835,  0.0151, -0.0795,\n",
      "         -0.1347,  0.1040,  0.0501,  0.0264, -0.1451,  0.0620,  0.1434,  0.1110],\n",
      "        [-0.0743,  0.0563, -0.0370, -0.0434,  0.1092,  0.0187, -0.1631, -0.1080,\n",
      "         -0.1589,  0.1525, -0.0526,  0.1756, -0.0564, -0.1412,  0.0693,  0.0600,\n",
      "          0.0919, -0.1392, -0.0758,  0.0568,  0.1671,  0.0180,  0.0328,  0.1744,\n",
      "          0.1549, -0.0525,  0.0058,  0.0458,  0.0092,  0.1536, -0.0430, -0.0859],\n",
      "        [-0.1406, -0.1741, -0.1592,  0.0151, -0.0857, -0.0321,  0.1450, -0.1720,\n",
      "         -0.0430,  0.0486,  0.1545,  0.1640, -0.0820,  0.1626,  0.1410,  0.0154,\n",
      "         -0.0728,  0.0508, -0.1634,  0.1484,  0.0632,  0.0388,  0.0625, -0.0838,\n",
      "          0.1679, -0.0122,  0.1011, -0.1117, -0.0764, -0.1760,  0.0263, -0.0340],\n",
      "        [ 0.1267, -0.1120,  0.0430, -0.1187, -0.1233,  0.0026,  0.0253,  0.0395,\n",
      "          0.1536,  0.1418,  0.0123, -0.0599,  0.1280,  0.1641,  0.0309,  0.1254,\n",
      "         -0.1152,  0.0291,  0.0451, -0.1532, -0.0621, -0.1668, -0.1493,  0.1198,\n",
      "         -0.1126,  0.0720, -0.0459,  0.0089, -0.0704, -0.0977, -0.0089,  0.0872],\n",
      "        [ 0.0106, -0.0042,  0.0736, -0.1278,  0.0112, -0.1322, -0.0943, -0.0269,\n",
      "          0.0638,  0.1084, -0.1479,  0.0090,  0.1344, -0.1213, -0.0173, -0.1298,\n",
      "          0.0112,  0.0421, -0.0060,  0.0631, -0.1182, -0.1380, -0.0150,  0.0992,\n",
      "         -0.1269, -0.0040, -0.0541, -0.1165, -0.0573,  0.0070,  0.0932, -0.0663],\n",
      "        [ 0.1550,  0.1372, -0.1698, -0.0469, -0.1667, -0.1576, -0.0207,  0.0754,\n",
      "         -0.0381,  0.1042,  0.1100, -0.1453,  0.0102,  0.1661, -0.1100, -0.1651,\n",
      "         -0.1123,  0.0194, -0.0935, -0.0605,  0.1751, -0.0434, -0.0959,  0.0054,\n",
      "         -0.1023, -0.1445, -0.0169,  0.1621, -0.0788, -0.0426,  0.1610, -0.1010],\n",
      "        [ 0.0031, -0.1526, -0.0818, -0.1509, -0.0151, -0.0131, -0.0493, -0.0333,\n",
      "          0.0878, -0.1221, -0.1436, -0.1613, -0.0797,  0.0379,  0.0106, -0.1512,\n",
      "         -0.0409, -0.1606,  0.0691,  0.0633,  0.0387,  0.0908,  0.1436,  0.1409,\n",
      "         -0.0809, -0.0183,  0.1366,  0.0603,  0.1289,  0.0206, -0.0006,  0.0731],\n",
      "        [ 0.0789, -0.0200, -0.0156,  0.1550, -0.0666, -0.0478,  0.0980, -0.1637,\n",
      "         -0.1281, -0.1594,  0.1177, -0.1331, -0.0346, -0.1164,  0.0888,  0.1607,\n",
      "          0.0164,  0.0388,  0.1436,  0.0527,  0.1019, -0.0304,  0.0929,  0.1263,\n",
      "         -0.0275,  0.1045, -0.0924,  0.0532,  0.1047,  0.1424, -0.1331,  0.1191],\n",
      "        [-0.0653, -0.1580, -0.0791, -0.1013, -0.0248,  0.1754, -0.0528, -0.0807,\n",
      "         -0.0104,  0.1342,  0.0505, -0.1211,  0.0709, -0.0544, -0.1464,  0.0497,\n",
      "         -0.0159,  0.0865, -0.1694,  0.1655,  0.1525, -0.1603,  0.1588,  0.1201,\n",
      "         -0.0843, -0.0168, -0.1466,  0.0903,  0.1156, -0.1599, -0.0212,  0.1306],\n",
      "        [-0.1397,  0.0270,  0.1552, -0.0746, -0.1462,  0.0169, -0.1175, -0.1714,\n",
      "          0.0593,  0.1486, -0.1709, -0.1743, -0.1383,  0.0489, -0.0625,  0.0267,\n",
      "          0.0261, -0.1321,  0.0976, -0.1105,  0.1117, -0.0666, -0.0308,  0.0414,\n",
      "          0.0667,  0.1751, -0.1062, -0.1140, -0.0451, -0.0248,  0.0244, -0.1128],\n",
      "        [ 0.1429,  0.1535,  0.0364, -0.0985, -0.0510, -0.0103,  0.0950,  0.0366,\n",
      "          0.0414, -0.0083,  0.0925, -0.1106,  0.0389,  0.0346, -0.0371,  0.1627,\n",
      "          0.1637,  0.0459, -0.1426,  0.0105,  0.1646,  0.0526, -0.1439, -0.1474,\n",
      "          0.0506, -0.1218, -0.0624, -0.1312,  0.0297, -0.0214,  0.1674, -0.0372]],\n",
      "       requires_grad=True), Parameter containing:\n",
      "tensor([-0.1678,  0.0788, -0.0222,  0.1617,  0.1135,  0.0617,  0.1140,  0.1310,\n",
      "         0.0848, -0.0854, -0.0895,  0.1235, -0.0962, -0.0104,  0.0517,  0.1199],\n",
      "       requires_grad=True), Parameter containing:\n",
      "tensor([[ 0.0730, -0.1177,  0.0762,  0.0050, -0.1238,  0.2258,  0.0670, -0.1210,\n",
      "         -0.1230,  0.2241, -0.0305,  0.1095,  0.0102,  0.1164, -0.0440,  0.1751]],\n",
      "       requires_grad=True), Parameter containing:\n",
      "tensor([-0.1573], requires_grad=True)]\n"
     ]
    }
   ],
   "source": [
    "from torch import nn\n",
    "# Definindo o modelo\n",
    "class NeuralNetwork(nn.Module):\n",
    "    def __init__(self):\n",
    "        super(NeuralNetwork, self).__init__()\n",
    "\n",
    "        self.feedforward = nn.Sequential(\n",
    "            nn.Linear(21, 64),\n",
    "            nn.Sigmoid(),\n",
    "            nn.Linear(64, 32),\n",
    "            nn.Sigmoid(),\n",
    "            nn.Linear(32, 16),\n",
    "            nn.Sigmoid(),\n",
    "            nn.Linear(16, 1),\n",
    "            nn.Sigmoid()\n",
    "        )\n",
    "\n",
    "    def forward(self, x):\n",
    "        return self.feedforward(x)\n",
    "\n",
    "\n",
    "model = NeuralNetwork().to(device)\n",
    "print(list(model.parameters()))"
   ]
  },
  {
   "cell_type": "markdown",
   "id": "f510dfee",
   "metadata": {},
   "source": [
    "Vamos definir agora mais alguns hiperparâmetros do treinamento/otimização:"
   ]
  },
  {
   "cell_type": "code",
   "execution_count": 21,
   "id": "b3f8478d",
   "metadata": {},
   "outputs": [],
   "source": [
    "# Hiperparâmetros do otimizador\n",
    "learning_rate = 0.01\n",
    "momentum = 0.1\n",
    "\n",
    "# Loss\n",
    "loss_fn = nn.BCELoss()\n",
    "\n",
    "# Otimizador\n",
    "optimizer = torch.optim.SGD(model.parameters(), lr=learning_rate, momentum=momentum)"
   ]
  },
  {
   "cell_type": "markdown",
   "id": "6ec31d9d",
   "metadata": {},
   "source": [
    "E definir uma função que recebe os dados (dataloader), o modelo, a loss e um otimizador e efetivamente treina a rede, realizando o cálculo do gradiente e o backpropagation (retropropagação):"
   ]
  },
  {
   "cell_type": "code",
   "execution_count": 23,
   "id": "a6837cc8",
   "metadata": {},
   "outputs": [],
   "source": [
    "def trainloop(dataloader, model, loss_fn, optimizer):\n",
    "    size = len(dataloader.dataset)\n",
    "    model.train()\n",
    "    for batch, (X, y) in enumerate(dataloader):\n",
    "        X, y = X.to(device), y.to(device)\n",
    "\n",
    "        # Calcula a loss\n",
    "        prediction = model(X)\n",
    "        loss = loss_fn(prediction, y)\n",
    "\n",
    "        # Backpropagation\n",
    "        # Zerar os gradientes (acumulam por passe)\n",
    "        optimizer.zero_grad()\n",
    "        # Calcular e definir o gradiente atual da loss\n",
    "        loss.backward()\n",
    "        # Dar um passo na direção oposta\n",
    "        optimizer.step()\n",
    "\n",
    "        # if batch % 100 == 0:\n",
    "        #     loss, current = loss.item(), batch*len(X)\n",
    "        #     print(f'loss:{loss:>7f} [{current:>5d}/{size:>5d}]', end='\\r')"
   ]
  },
  {
   "cell_type": "markdown",
   "id": "d28f59c3",
   "metadata": {},
   "source": [
    "E também uma função para avaliar o desempenho da rede, que acompanharemos a cada epoch."
   ]
  },
  {
   "cell_type": "code",
   "execution_count": 24,
   "id": "2f411426",
   "metadata": {},
   "outputs": [],
   "source": [
    "from sklearn.metrics import roc_auc_score\n",
    "def evaluate(dataloader, model, loss_fn):\n",
    "    size = len(dataloader.dataset)\n",
    "    num_batches = len(dataloader)\n",
    "    model.eval()\n",
    "    test_loss = 0\n",
    "    rocauc = 0\n",
    "    with torch.no_grad():\n",
    "        for X, y in dataloader:\n",
    "            X, y = X.to(device), y.to(device)\n",
    "            pred = model(X)\n",
    "            test_loss = test_loss + loss_fn(pred, y)\n",
    "            rocauc = rocauc + roc_auc_score(y.cpu(), pred.cpu())\n",
    "    test_loss = test_loss / num_batches\n",
    "    rocauc = rocauc / num_batches\n",
    "\n",
    "    # Retornar string ou números?\n",
    "    # return f'ROC-AUC: {(rocauc):.4f}, Avg loss: {test_loss:.4f}'\n",
    "    return rocauc, test_loss"
   ]
  },
  {
   "cell_type": "markdown",
   "id": "9b459512",
   "metadata": {},
   "source": [
    "Agora podemos, finamente, treinar a rede! O treino acontece na chamada da função _trainloop()_ que definimos, e o resto do código é responsável pelas métricas e tempos que usaremos para acompanhar o treino.\n",
    "\n",
    "Vamos treiná-la por 5 epochs:"
   ]
  },
  {
   "cell_type": "code",
   "execution_count": 25,
   "id": "01a94fc2",
   "metadata": {},
   "outputs": [
    {
     "name": "stdout",
     "output_type": "stream",
     "text": [
      "Epoch 5\n",
      "-------------------------------\n",
      "Desempenho treino: (0.674876032398252, tensor(0.4269))\n",
      "Desempenho teste: (0.6767015720981421, tensor(0.4293))\n",
      "Tempo última epoch: 4.95s\n",
      "Tempo total: 24.53s (0.41min)\n",
      "Rede treinada.\n"
     ]
    }
   ],
   "source": [
    "from IPython.display import clear_output\n",
    "\n",
    "epochs = 5\n",
    "start_time = time.time()\n",
    "for i in range(epochs):\n",
    "    start_epoch_time = time.time()\n",
    "    trainloop(train_dl, model, loss_fn, optimizer)\n",
    "    train_metric_str = evaluate(train_dl, model, loss_fn)\n",
    "    test_metric_str = evaluate(test_dl, model, loss_fn)\n",
    "    clear_output(wait=True)\n",
    "    print(f\"Epoch {i+1}\\n-------------------------------\")\n",
    "    print(f'Desempenho treino: {train_metric_str}')\n",
    "    print(f'Desempenho teste: {test_metric_str}')\n",
    "    end = time.time()\n",
    "    print(f'Tempo última epoch: {np.round((end-start_epoch_time), 2)}s')\n",
    "    print(f'Tempo total: {np.round((end-start_time), 2)}s ({np.round(((end-start_time)/60), 2)}min)')\n",
    "print('Rede treinada.')"
   ]
  },
  {
   "cell_type": "markdown",
   "id": "7b37724d",
   "metadata": {},
   "source": [
    "Já conseguimos uma ROC-AUC razoável! Vamos iterar o treinamento e plottar uma curva de loss e ROC-AUC:"
   ]
  },
  {
   "cell_type": "code",
   "execution_count": 26,
   "id": "69073ca7",
   "metadata": {},
   "outputs": [
    {
     "data": {
      "image/png": "[encoded data removed]",
      "text/plain": [
       "<Figure size 1000x500 with 2 Axes>"
      ]
     },
     "metadata": {},
     "output_type": "display_data"
    },
    {
     "name": "stdout",
     "output_type": "stream",
     "text": [
      "Rede treinada.\n",
      "Última loss: 0.3445102870464325\n",
      "Última ROC-AUC: 0.8095573807691395\n"
     ]
    }
   ],
   "source": [
    "import matplotlib.pylab as plt\n",
    "%matplotlib inline\n",
    "\n",
    "epochs = 100\n",
    "start_time = time.time()\n",
    "train_rocs, train_losses = [], []\n",
    "test_rocs, test_losses = [], []\n",
    "\n",
    "for i in range(epochs):\n",
    "    start_epoch_time = time.time()\n",
    "    trainloop(train_dl, model, loss_fn, optimizer)\n",
    "    train_roc, train_loss = evaluate(train_dl, model, loss_fn)\n",
    "    test_roc, test_loss = evaluate(test_dl, model, loss_fn)\n",
    "    train_rocs += [train_roc]\n",
    "    train_losses += [train_loss.cpu()]\n",
    "    test_rocs += [test_roc]\n",
    "    test_losses += [test_loss.cpu()]\n",
    "\n",
    "    # Plottando gráficos de loss e roc-auc\n",
    "    fig, ax1 = plt.subplots(figsize=(10, 5))\n",
    "    plt.title('Loss e ROC-AUC no treino e teste')\n",
    "    ax1.set_xlabel('Epochs')\n",
    "    ax1.set_ylabel('Loss')\n",
    "    ax1.plot([t for t in test_losses], label='loss_test', c='#663300')\n",
    "    ax1.plot([t for t in train_losses], label='loss_treino', c='#e67300')\n",
    "    ax1.legend()\n",
    "    ax2 = ax1.twinx()\n",
    "    ax2.set_ylabel('ROC-AUC')\n",
    "    ax2.plot([t for t in test_rocs], label='rocauc_test', c='#002080')\n",
    "    ax2.plot([t for t in train_rocs], label='rocauc_treino', c='#0039e6')\n",
    "    ax2.legend()\n",
    "    plt.show()\n",
    "    if i != epochs-1:\n",
    "        clear_output(wait=True)\n",
    "\n",
    "print('Rede treinada.')\n",
    "print(f'Última loss: {test_loss.cpu()}')\n",
    "print(f'Última ROC-AUC: {test_roc}')"
   ]
  },
  {
   "cell_type": "markdown",
   "id": "73a88d47",
   "metadata": {},
   "source": [
    "### Exercícios\n",
    "- Nesse dataset, podemos pensar como um problema de duas classes exclusivas - pacientes com diabetes e pacientes sem diabetes. Modele o problema utilizando uma saída de duas classes na rede neural e uma _softmax_ e treine a rede resultante. Compare com o desempenho da rede sigmoide.\n",
    "- Observe a diminuição dos ganhos de desempenho conforme as epochs passam. Faz sentido continuar treinando o modelo quando observamos ganhos apenas marginais? Descreva um possível critério de parada (convergência).\n",
    "- Exiba a diferença de complexidade entre uma rede com poucos neurônios e uma com muitos fazendo\n",
    "    - uma comparação treinando ambas as redes e anotando o tempo por epoch, ou\n",
    "    - calcule quantas arestas uma rede tem a mais que a outra."
   ]
  }
 ],
 "metadata": {
  "kernelspec": {
   "display_name": "Python 3 (ipykernel)",
   "language": "python",
   "name": "python3"
  },
  "language_info": {
   "codemirror_mode": {
    "name": "ipython",
    "version": 3
   },
   "file_extension": ".py",
   "mimetype": "text/x-python",
   "name": "python",
   "nbconvert_exporter": "python",
   "pygments_lexer": "ipython3",
   "version": "3.12.2"
  }
 },
 "nbformat": 4,
 "nbformat_minor": 5
}
