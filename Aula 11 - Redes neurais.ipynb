{
 "cells": [
  {
   "cell_type": "markdown",
   "id": "735f7dea",
   "metadata": {},
   "source": [
    "## Redes neurais\n",
    "Na aula de hoje, veremos como implementar redes neurais utilizando o _pytorch_. Utilizaremos também o dataset _Diabetes_, da aula 07, onde tentaremos prever a presença da doença com um modelo de classificação."
   ]
  },
  {
   "cell_type": "markdown",
   "id": "9e8ea2a1",
   "metadata": {},
   "source": [
    "##### Carregando o dataset"
   ]
  },
  {
   "cell_type": "code",
   "execution_count": 1,
   "id": "ff58aab1",
   "metadata": {},
   "outputs": [],
   "source": [
    "import pandas as pd\n",
    "from ucimlrepo import fetch_ucirepo\n",
    "import numpy as np\n",
    "import time\n",
    "pd.set_option('display.max_columns', None)\n",
    "cdc_diabetes_health_indicators = fetch_ucirepo(id=891)"
   ]
  },
  {
   "cell_type": "code",
   "execution_count": 2,
   "id": "ca2f66de",
   "metadata": {},
   "outputs": [],
   "source": [
    "df = pd.concat([cdc_diabetes_health_indicators.data.features, cdc_diabetes_health_indicators.data.targets], axis=1)"
   ]
  },
  {
   "cell_type": "code",
   "execution_count": 3,
   "id": "254155d3",
   "metadata": {},
   "outputs": [
    {
     "data": {
      "text/plain": [
       "0"
      ]
     },
     "execution_count": 3,
     "metadata": {},
     "output_type": "execute_result"
    }
   ],
   "source": [
    "df.drop_duplicates(inplace=True)\n",
    "df.duplicated().sum()"
   ]
  },
  {
   "cell_type": "code",
   "execution_count": 4,
   "id": "9a4377c3",
   "metadata": {},
   "outputs": [],
   "source": [
    "from sklearn.metrics import roc_auc_score\n",
    "from sklearn.model_selection import train_test_split\n",
    "model_cols = [c for c in df.columns if c!='Diabetes_binary']"
   ]
  },
  {
   "cell_type": "code",
   "execution_count": 5,
   "id": "e23b45f7",
   "metadata": {},
   "outputs": [
    {
     "data": {
      "text/plain": [
       "['HighBP',\n",
       " 'HighChol',\n",
       " 'CholCheck',\n",
       " 'BMI',\n",
       " 'Smoker',\n",
       " 'Stroke',\n",
       " 'HeartDiseaseorAttack',\n",
       " 'PhysActivity',\n",
       " 'Fruits',\n",
       " 'Veggies',\n",
       " 'HvyAlcoholConsump',\n",
       " 'AnyHealthcare',\n",
       " 'NoDocbcCost',\n",
       " 'GenHlth',\n",
       " 'MentHlth',\n",
       " 'PhysHlth',\n",
       " 'DiffWalk',\n",
       " 'Sex',\n",
       " 'Age',\n",
       " 'Education',\n",
       " 'Income']"
      ]
     },
     "execution_count": 5,
     "metadata": {},
     "output_type": "execute_result"
    }
   ],
   "source": [
    "model_cols_raw = [c for c in df.columns if c!='Diabetes_binary']\n",
    "model_cols_raw"
   ]
  },
  {
   "cell_type": "markdown",
   "id": "b53ea2e7",
   "metadata": {},
   "source": [
    "Vamos ajustar um StandardScaler() sobre os dados. Faremos esse ajuste sobre o conjunto completo para facilitar a comparação, mas na prática é importante ajustar os scalers para o modelo final escolhido somente sobre o conjunto de treino.\n",
    "\n",
    "Note que esta etapa não é necessária para o baseline que vamos ajustar, mas é necessária para as redes neurais."
   ]
  },
  {
   "cell_type": "code",
   "execution_count": 6,
   "id": "b9d1634f",
   "metadata": {},
   "outputs": [],
   "source": [
    "from sklearn.preprocessing import StandardScaler\n",
    "model_cols = [c+'_norm' for c in model_cols_raw]\n",
    "\n",
    "scaler = StandardScaler()\n",
    "df[model_cols] = scaler.fit_transform(df[model_cols_raw])"
   ]
  },
  {
   "cell_type": "markdown",
   "id": "aa3e31f6",
   "metadata": {},
   "source": [
    "Vamos ajustar então uma Random Forest sobre os dados e calcular a ROC-AUC com validação cruzada:"
   ]
  },
  {
   "cell_type": "code",
   "execution_count": 7,
   "id": "e8fecd77",
   "metadata": {},
   "outputs": [
    {
     "name": "stdout",
     "output_type": "stream",
     "text": [
      "ROC-AUC média cross-val: 0.7786829433517124\n"
     ]
    }
   ],
   "source": [
    "from sklearn.ensemble import RandomForestClassifier\n",
    "from sklearn.model_selection import cross_val_score\n",
    "\n",
    "params = {'n_estimators':200,\n",
    "          'n_jobs':-1,\n",
    "          'criterion':'gini',\n",
    "          'max_depth':None}\n",
    "\n",
    "print('ROC-AUC média cross-val:', np.mean(cross_val_score(estimator=RandomForestClassifier(**params),\n",
    "                                    X=df[model_cols], y=df['Diabetes_binary'], cv=5, scoring='roc_auc', n_jobs=-1)))"
   ]
  },
  {
   "cell_type": "code",
   "execution_count": 8,
   "id": "c55d67f9",
   "metadata": {},
   "outputs": [],
   "source": [
    "# Separação treino-teste-validação\n",
    "from sklearn.model_selection import train_test_split\n",
    "\n",
    "df_train, df_test = train_test_split(df, test_size=0.3, random_state=42)"
   ]
  },
  {
   "cell_type": "markdown",
   "id": "d1edccc3",
   "metadata": {},
   "source": [
    "##### Configurando pytorch\n",
    "Vamos configurar a biblioteca para executar na GPU ou CPU. A função `torch.cuda.is_available()` retorna se há implementação CUDA (NVidia) instalada disponível para ser utilizada."
   ]
  },
  {
   "cell_type": "code",
   "execution_count": 9,
   "id": "18fe0037",
   "metadata": {},
   "outputs": [
    {
     "name": "stdout",
     "output_type": "stream",
     "text": [
      "Cuda disponível: True\n",
      "cuda:0\n"
     ]
    }
   ],
   "source": [
    "import torch\n",
    "print('Cuda disponível:', torch.cuda.is_available())\n",
    "# Escolhendo entre CPU ou GPU\n",
    "# CPU\n",
    "# device = torch.device('cpu')\n",
    "# GPU\n",
    "device = torch.device('cuda:0')\n",
    "print(device)"
   ]
  },
  {
   "cell_type": "markdown",
   "id": "0de3ebcc",
   "metadata": {},
   "source": [
    "##### Configurando dataset de treino\n",
    "\n",
    "Para a implementação de redes neurais no pytorch, precisaremos transformar os dados em _tensores_. Essas estruturas são uma generalização de vetores e matrizes para espaços mais complexos: uma imagem pode ser vista como um cubo parecido com uma \"matriz 3D\", onde cada índice e coluna representam as coordenadas dos pixels, e cada \"camada\" na terceira dimensão representa um canal de cor (R, G, B).\n",
    "\n",
    "A variável resposta não está no formato tensorial adequado após a conversão utilizando o `torch.tensor()`, e é necessário \"adicionar\" uma \"dimensão\" no tensor com o unsqueeze"
   ]
  },
  {
   "cell_type": "code",
   "execution_count": 10,
   "id": "440a0eba",
   "metadata": {},
   "outputs": [
    {
     "name": "stdout",
     "output_type": "stream",
     "text": [
      "Features:\n",
      "tensor([[-0.9125, -0.8894,  0.2055,  ..., -1.3201,  0.0204,  0.5310],\n",
      "        [-0.9125,  1.1244,  0.2055,  ...,  0.9420, -0.9867, -0.9024],\n",
      "        [ 1.0959, -0.8894,  0.2055,  ...,  1.2651,  1.0275,  1.0088],\n",
      "        ...,\n",
      "        [-0.9125,  1.1244,  0.2055,  ...,  0.6188,  0.0204,  1.0088],\n",
      "        [ 1.0959,  1.1244,  0.2055,  ...,  0.6188,  1.0275,  1.0088],\n",
      "        [-0.9125, -0.8894,  0.2055,  ...,  1.2651, -1.9937, -1.3802]],\n",
      "       device='cuda:0')\n",
      "\n",
      "Targets:\n",
      "tensor([[0.],\n",
      "        [0.],\n",
      "        [0.],\n",
      "        ...,\n",
      "        [0.],\n",
      "        [1.],\n",
      "        [0.]], device='cuda:0')\n"
     ]
    }
   ],
   "source": [
    "import torch\n",
    "\n",
    "# Colocando em tensores do pytorch\n",
    "train_features = torch.tensor(df_train[model_cols].values.astype(np.float32)).to(device)\n",
    "train_target = torch.tensor(df_train['Diabetes_binary'].values.astype(np.float32)).to(device).unsqueeze(1)\n",
    "print(f'Features:\\n{train_features}\\n')\n",
    "print(f'Targets:\\n{train_target}')"
   ]
  },
  {
   "cell_type": "markdown",
   "id": "4bbe1032",
   "metadata": {},
   "source": [
    "Vamos precisar configurar também _dataloaders_, que \"embrulham\" os dados em pacotes iteráveis no formato necessário. Para isso, precisaremos definir um hiperparâmetro muito importante: o `batch_size`. Esse hiperparâmetro define o tamanho dos \"pacotes\" de amostras que são processados na rede neural por vez. Caso tenhamos 100 amostras totais e batch_size=20, uma \"passada completa\" dos dados na rede (_epoch_) leva 5 iterações, onde o gradiente é calculado e retropropagado a cada iteração.\n",
    "\n",
    "Valores muito pequenos para este hiperparâmetro podem prejudicar bastante o treinamento (e induzir overfitting) devido à alta variância resultante dos \"pacotes\" - será comum, por exemplo, _batches_ com somente uma classe. Por outro lado, batches muito grandes podem ser generalistas demais.\n",
    "\n",
    "Controlar o `batch_size` é principalmente um jeito de controlar os requisitos de memória para treinar uma rede neural: quanto maior forem os batches, mais memória (da GPU) será necessária - em contrapartida, mais rápido será o treinamento."
   ]
  },
  {
   "cell_type": "code",
   "execution_count": 11,
   "id": "585f7d99",
   "metadata": {},
   "outputs": [],
   "source": [
    "# Definindo 256 amostras por batch\n",
    "batch_size = 256"
   ]
  },
  {
   "cell_type": "code",
   "execution_count": 12,
   "id": "84496573",
   "metadata": {},
   "outputs": [],
   "source": [
    "# Configurando dataloader\n",
    "from torch.utils.data import TensorDataset, DataLoader\n",
    "train_tensor = TensorDataset(train_features, train_target)\n",
    "train_dl = DataLoader(dataset=train_tensor, batch_size=batch_size, shuffle=True)"
   ]
  },
  {
   "cell_type": "code",
   "execution_count": 13,
   "id": "9c00134b",
   "metadata": {},
   "outputs": [
    {
     "data": {
      "text/plain": [
       "<torch.utils.data.dataset.TensorDataset at 0x154b462ea20>"
      ]
     },
     "execution_count": 13,
     "metadata": {},
     "output_type": "execute_result"
    }
   ],
   "source": [
    "train_tensor"
   ]
  },
  {
   "cell_type": "markdown",
   "id": "0d1130f5",
   "metadata": {},
   "source": [
    "##### Configurando dataset de teste"
   ]
  },
  {
   "cell_type": "code",
   "execution_count": 14,
   "id": "62be8d61",
   "metadata": {},
   "outputs": [],
   "source": [
    "test_features = torch.tensor(df_test[model_cols].values.astype(np.float32))\n",
    "test_target = torch.tensor(df_test['Diabetes_binary'].values.astype(np.float32)).unsqueeze(1)\n",
    "test_tensor = TensorDataset(test_features, test_target)\n",
    "test_dl = DataLoader(dataset=test_tensor, batch_size=batch_size, shuffle=True)"
   ]
  },
  {
   "cell_type": "code",
   "execution_count": 15,
   "id": "40c94a83",
   "metadata": {},
   "outputs": [
    {
     "name": "stdout",
     "output_type": "stream",
     "text": [
      "X: torch.Size([256, 21])\n",
      "y: torch.Size([256, 1]) torch.cuda.FloatTensor\n"
     ]
    }
   ],
   "source": [
    "for X,y in train_dl:\n",
    "    train_features, train_labels = next(iter(train_dl))\n",
    "    print(f'X: {X.shape}')\n",
    "    print(f'y: {y.shape} {y.type()}')\n",
    "    break"
   ]
  },
  {
   "cell_type": "markdown",
   "id": "1a86affe",
   "metadata": {},
   "source": [
    "##### Construindo a rede neural\n",
    "\n",
    "Chegou a hora de construirmos a rede de fato! Para isso, vamos utilizar um pouco de orientação a objetos e definir o atributo um atributo _feedforward_ da rede que representa uma sequência de passos (camadas), capturados pelo módulo `nn.Sequential()` do pytorch. Também poderíamos definir cada camada em um atributo, o que é importante para redes mais complexas.\n",
    "\n",
    "Documentação relevante: https://pytorch.org/docs/stable/nn.html"
   ]
  },
  {
   "cell_type": "code",
   "execution_count": 16,
   "id": "bd5a9dbf",
   "metadata": {
    "scrolled": true
   },
   "outputs": [
    {
     "name": "stdout",
     "output_type": "stream",
     "text": [
      "[Parameter containing:\n",
      "tensor([[-0.1899,  0.0975, -0.1311,  ...,  0.1863, -0.1161,  0.1051],\n",
      "        [-0.1711,  0.0733, -0.1177,  ...,  0.1102,  0.2055, -0.0855],\n",
      "        [ 0.0446, -0.2025, -0.1697,  ..., -0.1116,  0.0485, -0.1602],\n",
      "        ...,\n",
      "        [-0.0686, -0.0739,  0.0154,  ..., -0.0089, -0.1481,  0.2008],\n",
      "        [-0.1791,  0.1390,  0.0524,  ..., -0.0014,  0.0164,  0.0692],\n",
      "        [ 0.0065,  0.1623, -0.0280,  ..., -0.0762,  0.0330,  0.1610]],\n",
      "       device='cuda:0', requires_grad=True), Parameter containing:\n",
      "tensor([-0.1476,  0.1381,  0.0905, -0.0289, -0.0440, -0.0360,  0.0039,  0.0866,\n",
      "         0.1278,  0.1847, -0.1305,  0.0376, -0.0018, -0.1589,  0.0041, -0.2089,\n",
      "         0.2081,  0.2051,  0.1184, -0.1574,  0.0752,  0.0472, -0.1992, -0.0931,\n",
      "        -0.1304,  0.1279, -0.0043,  0.0040, -0.0260,  0.1345, -0.2126,  0.1718,\n",
      "        -0.1312,  0.0470,  0.1420, -0.1805, -0.0325, -0.0983,  0.0511, -0.1239,\n",
      "         0.1090,  0.0039, -0.1993,  0.0967, -0.1753,  0.0250, -0.1625,  0.1050,\n",
      "         0.1546, -0.1704,  0.1139, -0.0456,  0.1234,  0.0226,  0.0340, -0.2038,\n",
      "        -0.0366,  0.1504, -0.0883,  0.1686, -0.1435, -0.0584,  0.1567,  0.0565],\n",
      "       device='cuda:0', requires_grad=True), Parameter containing:\n",
      "tensor([[ 0.0516, -0.0286,  0.1189,  ...,  0.0581, -0.0837, -0.0241],\n",
      "        [ 0.0281,  0.0249, -0.1217,  ..., -0.0451,  0.1191,  0.1119],\n",
      "        [-0.1200,  0.0591,  0.1160,  ...,  0.0820,  0.0330,  0.0524],\n",
      "        ...,\n",
      "        [ 0.1021,  0.0196, -0.0347,  ..., -0.0737,  0.1021, -0.0877],\n",
      "        [-0.0968, -0.0280,  0.0134,  ..., -0.1213,  0.1082,  0.1198],\n",
      "        [-0.0493, -0.0943,  0.0029,  ...,  0.0912, -0.0581, -0.0327]],\n",
      "       device='cuda:0', requires_grad=True), Parameter containing:\n",
      "tensor([-0.0630,  0.1077, -0.1111,  0.0888,  0.0713,  0.0218,  0.0991,  0.0205,\n",
      "        -0.0481, -0.0057,  0.0073, -0.0354, -0.0027,  0.0377, -0.0596, -0.0941,\n",
      "        -0.0967,  0.0530, -0.1203, -0.0744,  0.0195,  0.1119,  0.0181, -0.0221,\n",
      "         0.0359,  0.0352, -0.0521, -0.0228,  0.0330, -0.0539, -0.0236, -0.0306],\n",
      "       device='cuda:0', requires_grad=True), Parameter containing:\n",
      "tensor([[ 0.1686, -0.0314, -0.1309,  0.1329,  0.1726, -0.1043, -0.0441, -0.1486,\n",
      "          0.1135,  0.0724, -0.1363, -0.1417,  0.1024,  0.0018, -0.1257,  0.1346,\n",
      "         -0.0498,  0.1236,  0.0891, -0.0821,  0.0041,  0.0674,  0.0701,  0.0079,\n",
      "         -0.1621,  0.0314, -0.0674,  0.0041,  0.0626,  0.0992, -0.0020,  0.0290],\n",
      "        [-0.0768,  0.0938, -0.0351,  0.0966, -0.1335, -0.0318,  0.0661, -0.0746,\n",
      "          0.0528, -0.1344, -0.0178, -0.1265, -0.0434, -0.1728,  0.0598,  0.0756,\n",
      "          0.1493,  0.1677,  0.1467,  0.1020, -0.0529,  0.0293, -0.1402, -0.1572,\n",
      "          0.0960, -0.0909,  0.1359, -0.0513,  0.1252, -0.1533, -0.1751,  0.0663],\n",
      "        [ 0.1624,  0.1432,  0.1691, -0.0450,  0.1453,  0.1412,  0.1237,  0.0894,\n",
      "         -0.0087,  0.1672,  0.1765,  0.1185,  0.0727, -0.1600,  0.1740,  0.1094,\n",
      "          0.0530,  0.1049,  0.0443,  0.0631, -0.1419, -0.0450,  0.0826,  0.0690,\n",
      "          0.0822, -0.1505, -0.0841, -0.0927, -0.1729,  0.0617,  0.1258, -0.0668],\n",
      "        [-0.0080,  0.0664,  0.1421, -0.1537,  0.0900, -0.0687,  0.0835,  0.1489,\n",
      "          0.1262, -0.0550, -0.0011,  0.0932, -0.1333,  0.0876,  0.1091,  0.0613,\n",
      "          0.0073,  0.1287,  0.1659, -0.1451, -0.0698, -0.1215, -0.1644,  0.0377,\n",
      "         -0.1500, -0.0739,  0.1763,  0.1297,  0.1158, -0.0170,  0.1008,  0.1723],\n",
      "        [-0.0832, -0.1701, -0.0109, -0.1180, -0.0788, -0.1547,  0.0025,  0.0483,\n",
      "         -0.1746,  0.0206,  0.0398, -0.1091, -0.0394,  0.0526,  0.1124, -0.0755,\n",
      "         -0.1276, -0.0611,  0.0376, -0.0642, -0.0911,  0.0753,  0.0023, -0.0359,\n",
      "         -0.0768, -0.0544,  0.1172,  0.1091, -0.0991, -0.0470,  0.1475, -0.0450],\n",
      "        [-0.0003, -0.0653, -0.0601,  0.0401,  0.1306,  0.1075,  0.1613,  0.0620,\n",
      "          0.0014,  0.1629,  0.0074,  0.0232, -0.1414, -0.1004,  0.0851,  0.1279,\n",
      "         -0.1682, -0.1417,  0.1133, -0.0390, -0.0029, -0.0349, -0.0549, -0.1748,\n",
      "          0.0607, -0.1510,  0.1659, -0.1309,  0.0994, -0.1002, -0.0908,  0.0163],\n",
      "        [-0.0323, -0.0186, -0.0878, -0.0016, -0.0297,  0.1694, -0.1486,  0.0398,\n",
      "          0.1578,  0.1691,  0.1338, -0.0017,  0.1513, -0.0229, -0.0226, -0.0938,\n",
      "         -0.0447, -0.0283, -0.0216, -0.0947,  0.0704, -0.0586,  0.0083,  0.0094,\n",
      "         -0.0715,  0.0369,  0.1719, -0.0717, -0.0794,  0.0953,  0.0973, -0.1023],\n",
      "        [ 0.1612, -0.0686,  0.1575, -0.0015, -0.1084,  0.0472,  0.1673, -0.1597,\n",
      "          0.0151, -0.0792,  0.0261,  0.1111,  0.1562, -0.0824,  0.1566,  0.0871,\n",
      "          0.0504,  0.0441,  0.0015, -0.0238, -0.0063, -0.0875,  0.0547,  0.0062,\n",
      "         -0.1142, -0.1615,  0.1763, -0.1339,  0.0128, -0.0210, -0.0372,  0.1139],\n",
      "        [ 0.1580, -0.0050,  0.0094,  0.1415, -0.0385, -0.0279,  0.1296, -0.1723,\n",
      "          0.0787, -0.1435, -0.1497, -0.0631, -0.0029,  0.0391, -0.1032,  0.1083,\n",
      "          0.1604, -0.0714, -0.0137,  0.0790,  0.0725,  0.0263, -0.0478, -0.0147,\n",
      "         -0.1372,  0.0886, -0.1686, -0.0148, -0.0589, -0.1255, -0.0482, -0.1615],\n",
      "        [-0.0194, -0.1148, -0.0586, -0.0360,  0.1208,  0.0191,  0.1064, -0.0318,\n",
      "         -0.0540,  0.1756,  0.0327,  0.1189,  0.0028,  0.1518,  0.1445, -0.1383,\n",
      "         -0.0962, -0.0955,  0.0647, -0.1026,  0.0986, -0.0674,  0.0492,  0.1329,\n",
      "         -0.1655,  0.1452,  0.1244, -0.0135,  0.0452, -0.0827, -0.0658, -0.1372],\n",
      "        [-0.0389,  0.1719,  0.1752,  0.0602, -0.0663,  0.1012,  0.0117,  0.0532,\n",
      "         -0.1276, -0.0596,  0.0391, -0.1714,  0.1043, -0.1433, -0.0576, -0.1598,\n",
      "          0.0370,  0.1558,  0.1092,  0.1673,  0.1658, -0.1167,  0.0512, -0.0779,\n",
      "          0.0620,  0.1243, -0.0715, -0.0568, -0.1065, -0.1121,  0.1161, -0.1702],\n",
      "        [-0.0454, -0.1684,  0.0144,  0.0562, -0.0406,  0.0659,  0.1330, -0.1633,\n",
      "          0.1250,  0.1752, -0.0004,  0.0052,  0.1541,  0.1314, -0.0616, -0.0868,\n",
      "         -0.1538,  0.1412,  0.1181,  0.1416,  0.0288,  0.0999, -0.0501,  0.0535,\n",
      "         -0.1192,  0.0190, -0.1301, -0.0420, -0.0842, -0.0004,  0.1000, -0.0383],\n",
      "        [ 0.0568,  0.0285, -0.0217, -0.1089, -0.0739,  0.0215,  0.1085,  0.1203,\n",
      "         -0.1509,  0.0647, -0.1084,  0.0218,  0.1087,  0.1073, -0.0499, -0.1550,\n",
      "          0.0599,  0.0577, -0.1080, -0.0482,  0.1655, -0.0745,  0.1031, -0.0175,\n",
      "         -0.1667, -0.1065,  0.0658, -0.1482, -0.0692,  0.0558,  0.1716, -0.0398],\n",
      "        [ 0.0257, -0.1055, -0.1536,  0.0268, -0.0536,  0.1521, -0.0972,  0.0901,\n",
      "          0.1425, -0.0679,  0.1458, -0.1192, -0.0124, -0.0058,  0.1280, -0.1463,\n",
      "         -0.0131,  0.0194, -0.1758, -0.1580, -0.0426, -0.1053,  0.0682, -0.0829,\n",
      "         -0.0847, -0.1591,  0.0985,  0.1256,  0.1717, -0.0115, -0.0525, -0.1055],\n",
      "        [-0.1538, -0.1464, -0.1237,  0.1100,  0.1663, -0.1472, -0.0673,  0.1157,\n",
      "          0.0632,  0.0739,  0.0545,  0.1763, -0.1449, -0.0445, -0.0876, -0.0147,\n",
      "          0.1299,  0.0910,  0.0519, -0.1114, -0.0081,  0.0465, -0.0476,  0.0709,\n",
      "          0.0040, -0.1168, -0.0769,  0.1586, -0.1110, -0.0272, -0.1002,  0.1324],\n",
      "        [-0.1669,  0.0517, -0.1711, -0.0472, -0.0853, -0.1372,  0.0821,  0.0621,\n",
      "          0.0414,  0.0675,  0.0525, -0.1732, -0.1451,  0.0942, -0.1681, -0.0485,\n",
      "          0.0683, -0.0589, -0.0162, -0.0377, -0.1114,  0.1255,  0.0897,  0.0715,\n",
      "          0.0162,  0.0437,  0.0059, -0.0217, -0.0111,  0.0583,  0.0981,  0.1391]],\n",
      "       device='cuda:0', requires_grad=True), Parameter containing:\n",
      "tensor([-0.0922,  0.1411,  0.1621, -0.0930, -0.0192, -0.0826,  0.1552, -0.0595,\n",
      "         0.0510,  0.0145,  0.1369,  0.0053,  0.0514, -0.1086, -0.1264,  0.0400],\n",
      "       device='cuda:0', requires_grad=True), Parameter containing:\n",
      "tensor([[-0.2397, -0.0294, -0.1191,  0.2200, -0.1186, -0.0570,  0.1613,  0.0164,\n",
      "         -0.2414,  0.1265,  0.0789,  0.1497, -0.1872,  0.2237, -0.0245,  0.0343]],\n",
      "       device='cuda:0', requires_grad=True), Parameter containing:\n",
      "tensor([-0.0827], device='cuda:0', requires_grad=True)]\n"
     ]
    }
   ],
   "source": [
    "from torch import nn\n",
    "# Definindo o modelo\n",
    "class NeuralNetwork(nn.Module):\n",
    "    def __init__(self):\n",
    "        super(NeuralNetwork, self).__init__()\n",
    "\n",
    "        self.feedforward = nn.Sequential(\n",
    "            nn.Linear(21, 64),\n",
    "            nn.Sigmoid(),\n",
    "            nn.Linear(64, 32),\n",
    "            nn.Sigmoid(),\n",
    "            nn.Linear(32, 16),\n",
    "            nn.Sigmoid(),\n",
    "            nn.Linear(16, 1),\n",
    "            nn.Sigmoid()\n",
    "        )\n",
    "\n",
    "    def forward(self, x):\n",
    "        return self.feedforward(x)\n",
    "\n",
    "\n",
    "model = NeuralNetwork().to(device)\n",
    "print(list(model.parameters()))"
   ]
  },
  {
   "cell_type": "markdown",
   "id": "f510dfee",
   "metadata": {},
   "source": [
    "Vamos definir agora mais alguns hiperparâmetros do treinamento/otimização:"
   ]
  },
  {
   "cell_type": "code",
   "execution_count": 17,
   "id": "b3f8478d",
   "metadata": {},
   "outputs": [],
   "source": [
    "# Hiperparâmetros do otimizador\n",
    "learning_rate = 0.01\n",
    "momentum = 0.1\n",
    "\n",
    "# Loss\n",
    "loss_fn = nn.BCELoss()\n",
    "\n",
    "# Otimizador\n",
    "optimizer = torch.optim.SGD(model.parameters(), lr=learning_rate, momentum=momentum)"
   ]
  },
  {
   "cell_type": "markdown",
   "id": "6ec31d9d",
   "metadata": {},
   "source": [
    "E definir uma função que recebe os dados (dataloader), o modelo, a loss e um otimizador e efetivamente treina a rede, realizando o cálculo do gradiente e o backpropagation (retropropagação):"
   ]
  },
  {
   "cell_type": "code",
   "execution_count": 18,
   "id": "a6837cc8",
   "metadata": {},
   "outputs": [],
   "source": [
    "def trainloop(dataloader, model, loss_fn, optimizer):\n",
    "    size = len(dataloader.dataset)\n",
    "    model.train()\n",
    "    for batch, (X, y) in enumerate(dataloader):\n",
    "        X, y = X.to(device), y.to(device)\n",
    "\n",
    "        # Calcula a loss\n",
    "        prediction = model(X)\n",
    "        loss = loss_fn(prediction, y)\n",
    "\n",
    "        # Backpropagation\n",
    "        # Zerar os gradientes (acumulam por passe)\n",
    "        optimizer.zero_grad()\n",
    "        # Calcular e definir o gradiente atual da loss\n",
    "        loss.backward()\n",
    "        # Dar um passo na direção oposta\n",
    "        optimizer.step()\n",
    "\n",
    "        # if batch % 100 == 0:\n",
    "        #     loss, current = loss.item(), batch*len(X)\n",
    "        #     print(f'loss:{loss:>7f} [{current:>5d}/{size:>5d}]', end='\\r')"
   ]
  },
  {
   "cell_type": "markdown",
   "id": "d28f59c3",
   "metadata": {},
   "source": [
    "E também uma função para avaliar o desempenho da rede, que acompanharemos a cada epoch."
   ]
  },
  {
   "cell_type": "code",
   "execution_count": 19,
   "id": "2f411426",
   "metadata": {},
   "outputs": [],
   "source": [
    "from sklearn.metrics import roc_auc_score\n",
    "def evaluate(dataloader, model, loss_fn):\n",
    "    size = len(dataloader.dataset)\n",
    "    num_batches = len(dataloader)\n",
    "    model.eval()\n",
    "    test_loss = 0\n",
    "    rocauc = 0\n",
    "    with torch.no_grad():\n",
    "        for X, y in dataloader:\n",
    "            X, y = X.to(device), y.to(device)\n",
    "            pred = model(X)\n",
    "            test_loss = test_loss + loss_fn(pred, y)\n",
    "            rocauc = rocauc + roc_auc_score(y.cpu(), pred.cpu())\n",
    "    test_loss = test_loss / num_batches\n",
    "    rocauc = rocauc / num_batches\n",
    "\n",
    "    # Retornar string ou números?\n",
    "    # return f'ROC-AUC: {(rocauc):.4f}, Avg loss: {test_loss:.4f}'\n",
    "    return rocauc, test_loss"
   ]
  },
  {
   "cell_type": "markdown",
   "id": "9b459512",
   "metadata": {},
   "source": [
    "Agora podemos, finamente, treinar a rede! O treino acontece na chamada da função _trainloop()_ que definimos, e o resto do código é responsável pelas métricas e tempos que usaremos para acompanhar o treino.\n",
    "\n",
    "Vamos treiná-la por 5 epochs:"
   ]
  },
  {
   "cell_type": "code",
   "execution_count": 20,
   "id": "01a94fc2",
   "metadata": {},
   "outputs": [
    {
     "name": "stdout",
     "output_type": "stream",
     "text": [
      "Epoch 5\n",
      "-------------------------------\n",
      "Desempenho treino: (0.5769958619073401, tensor(0.4270, device='cuda:0'))\n",
      "Desempenho teste: (0.5764801419243917, tensor(0.4294, device='cuda:0'))\n",
      "Tempo última epoch: 8.01s\n",
      "Tempo total: 38.14s (0.64min)\n",
      "Rede treinada.\n"
     ]
    }
   ],
   "source": [
    "from IPython.display import clear_output\n",
    "\n",
    "epochs = 5\n",
    "start_time = time.time()\n",
    "for i in range(epochs):\n",
    "    start_epoch_time = time.time()\n",
    "    trainloop(train_dl, model, loss_fn, optimizer)\n",
    "    train_metric_str = evaluate(train_dl, model, loss_fn)\n",
    "    test_metric_str = evaluate(test_dl, model, loss_fn)\n",
    "    clear_output(wait=True)\n",
    "    print(f\"Epoch {i+1}\\n-------------------------------\")\n",
    "    print(f'Desempenho treino: {train_metric_str}')\n",
    "    print(f'Desempenho teste: {test_metric_str}')\n",
    "    end = time.time()\n",
    "    print(f'Tempo última epoch: {np.round((end-start_epoch_time), 2)}s')\n",
    "    print(f'Tempo total: {np.round((end-start_time), 2)}s ({np.round(((end-start_time)/60), 2)}min)')\n",
    "print('Rede treinada.')"
   ]
  },
  {
   "cell_type": "markdown",
   "id": "7b37724d",
   "metadata": {},
   "source": [
    "Já conseguimos uma ROC-AUC razoável! Vamos iterar o treinamento e plottar uma curva de loss e ROC-AUC:"
   ]
  },
  {
   "cell_type": "code",
   "execution_count": 21,
   "id": "69073ca7",
   "metadata": {},
   "outputs": [
    {
     "data": {
      "image/png": "[encoded data removed]",
      "text/plain": [
       "<Figure size 1000x500 with 2 Axes>"
      ]
     },
     "metadata": {},
     "output_type": "display_data"
    },
    {
     "name": "stdout",
     "output_type": "stream",
     "text": [
      "Rede treinada.\n",
      "Última loss: 0.34459856152534485\n",
      "Última ROC-AUC: 0.8096894205334538\n"
     ]
    }
   ],
   "source": [
    "import matplotlib.pylab as plt\n",
    "%matplotlib inline\n",
    "\n",
    "epochs = 100\n",
    "start_time = time.time()\n",
    "train_rocs, train_losses = [], []\n",
    "test_rocs, test_losses = [], []\n",
    "\n",
    "for i in range(epochs):\n",
    "    start_epoch_time = time.time()\n",
    "    trainloop(train_dl, model, loss_fn, optimizer)\n",
    "    train_roc, train_loss = evaluate(train_dl, model, loss_fn)\n",
    "    test_roc, test_loss = evaluate(test_dl, model, loss_fn)\n",
    "    train_rocs += [train_roc]\n",
    "    train_losses += [train_loss.cpu()]\n",
    "    test_rocs += [test_roc]\n",
    "    test_losses += [test_loss.cpu()]\n",
    "\n",
    "    # Plottando gráficos de loss e roc-auc\n",
    "    fig, ax1 = plt.subplots(figsize=(10, 5))\n",
    "    plt.title('Loss e ROC-AUC no treino e teste')\n",
    "    ax1.set_xlabel('Epochs')\n",
    "    ax1.set_ylabel('Loss')\n",
    "    ax1.plot([t for t in test_losses], label='loss_test', c='#663300')\n",
    "    ax1.plot([t for t in train_losses], label='loss_treino', c='#e67300')\n",
    "    ax1.legend()\n",
    "    ax2 = ax1.twinx()\n",
    "    ax2.set_ylabel('ROC-AUC')\n",
    "    ax2.plot([t for t in test_rocs], label='rocauc_test', c='#002080')\n",
    "    ax2.plot([t for t in train_rocs], label='rocauc_treino', c='#0039e6')\n",
    "    ax2.legend()\n",
    "    plt.show()\n",
    "    if i != epochs-1:\n",
    "        clear_output(wait=True)\n",
    "\n",
    "print('Rede treinada.')\n",
    "print(f'Última loss: {test_loss.cpu()}')\n",
    "print(f'Última ROC-AUC: {test_roc}')"
   ]
  },
  {
   "cell_type": "markdown",
   "id": "73a88d47",
   "metadata": {},
   "source": [
    "### Exercícios\n",
    "- Nesse dataset, podemos pensar como um problema de duas classes exclusivas - pacientes com diabetes e pacientes sem diabetes. Modele o problema utilizando uma saída de duas classes na rede neural e uma _softmax_ e treine a rede resultante. Compare com o desempenho da rede sigmoide.\n",
    "- Observe a diminuição dos ganhos de desempenho conforme as epochs passam. Faz sentido continuar treinando o modelo quando observamos ganhos apenas marginais? Descreva um possível critério de parada (convergência).\n",
    "- Exiba a diferença de complexidade entre uma rede com poucos neurônios e uma com muitos fazendo\n",
    "    - uma comparação treinando ambas as redes e anotando o tempo por epoch, ou\n",
    "    - calcule quantas arestas uma rede tem a mais que a outra."
   ]
  }
 ],
 "metadata": {
  "kernelspec": {
   "display_name": "Python 3 (ipykernel)",
   "language": "python",
   "name": "python3"
  },
  "language_info": {
   "codemirror_mode": {
    "name": "ipython",
    "version": 3
   },
   "file_extension": ".py",
   "mimetype": "text/x-python",
   "name": "python",
   "nbconvert_exporter": "python",
   "pygments_lexer": "ipython3",
   "version": "3.12.2"
  }
 },
 "nbformat": 4,
 "nbformat_minor": 5
}
